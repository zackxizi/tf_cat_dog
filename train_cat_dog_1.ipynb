{
 "cells": [
  {
   "metadata": {
    "ExecuteTime": {
     "end_time": "2024-07-21T08:56:08.197916Z",
     "start_time": "2024-07-21T08:56:00.896926Z"
    }
   },
   "cell_type": "code",
   "source": [
    "import os\n",
    "from tensorflow.keras.preprocessing import image\n",
    "\n",
    "# 图片生成器\n",
    "dataGen = image.ImageDataGenerator(\n",
    "    rescale=1. / 255,\n",
    "    width_shift_range=0.2,\n",
    "    height_shift_range=0.2,\n",
    "    shear_range=0.2,\n",
    "    zoom_range=0.2,\n",
    "    horizontal_flip=True,\n",
    "    fill_mode='nearest'\n",
    ")\n",
    "\n",
    "\n",
    "def gen(directory, save_to_dir, a_class):\n",
    "    batch_size = 32\n",
    "    genData = dataGen.flow_from_directory(\n",
    "        directory=directory,\n",
    "        save_to_dir=save_to_dir,\n",
    "        batch_size=batch_size,\n",
    "        classes=[a_class],\n",
    "        shuffle=True,\n",
    "        save_prefix='gen',\n",
    "        target_size=[64, 64],\n",
    "        class_mode=\"binary\"\n",
    "    )\n",
    "    inner_class_path = os.path.join(directory, a_class)\n",
    "    out_class_path = os.path.join(save_to_dir)\n",
    "    os.makedirs(out_class_path, exist_ok=True)\n",
    "\n",
    "    num_images = len(os.listdir(inner_class_path))\n",
    "    steps = num_images // batch_size\n",
    "\n",
    "    for i in range(steps):\n",
    "        next(genData)\n",
    "\n",
    "\n",
    "directory = './data/cats_and_dogs'\n",
    "save_to_dir = './data/cats_and_dogs_2'\n",
    "classes = ['cats', 'dogs']\n",
    "types = ['train', 'validation']\n",
    "\n",
    "\n",
    "def genImg(epochs=1):\n",
    "    for c in range(epochs):\n",
    "        for t in types:\n",
    "            for c in classes:\n",
    "                gen(os.path.join(directory, t), os.path.join(save_to_dir, t, c), c)\n",
    "\n",
    "\n",
    "genImg()"
   ],
   "id": "initial_id",
   "outputs": [
    {
     "name": "stdout",
     "output_type": "stream",
     "text": [
      "Found 1000 images belonging to 1 classes.\n",
      "Found 1000 images belonging to 1 classes.\n",
      "Found 500 images belonging to 1 classes.\n",
      "Found 500 images belonging to 1 classes.\n"
     ]
    }
   ],
   "execution_count": 8
  },
  {
   "metadata": {},
   "cell_type": "code",
   "outputs": [],
   "execution_count": null,
   "source": "",
   "id": "a45ddaa0fb447e42"
  }
 ],
 "metadata": {
  "kernelspec": {
   "display_name": "Python 3",
   "language": "python",
   "name": "python3"
  },
  "language_info": {
   "codemirror_mode": {
    "name": "ipython",
    "version": 2
   },
   "file_extension": ".py",
   "mimetype": "text/x-python",
   "name": "python",
   "nbconvert_exporter": "python",
   "pygments_lexer": "ipython2",
   "version": "2.7.6"
  }
 },
 "nbformat": 4,
 "nbformat_minor": 5
}
