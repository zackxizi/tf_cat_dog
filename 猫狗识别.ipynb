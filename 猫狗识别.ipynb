{
 "cells": [
  {
   "cell_type": "markdown",
   "metadata": {
    "colab_type": "text",
    "id": "3bSXLX4pkdxs"
   },
   "source": [
    "# 猫狗识别\n",
    "\n",
    "- 数据预处理：图像数据处理，准备训练和验证数据集\n",
    "- 卷积网络模型：构建网络架构\n",
    "- 过拟合问题：观察训练和验证效果，针对过拟合问题提出解决方法\n",
    "- 数据增强：图像数据增强方法与效果\n",
    "- 迁移学习：深度学习必备训练策略"
   ]
  },
  {
   "cell_type": "markdown",
   "metadata": {},
   "source": [
    "<img src=\"./img/1.png\" alt=\"FAO\" width=\"990\">"
   ]
  },
  {
   "cell_type": "code",
   "metadata": {
    "colab_type": "text",
    "id": "3TQcJVqBuYi4"
   },
   "source": [
    "# import os\n",
    "# from tensorflow.keras.preprocessing import image\n",
    "\n",
    "# # 数据目录\n",
    "# base_dir = \"./data/cats_and_dogs\"\n",
    "# train_dir = os.path.join(base_dir, 'validation')\n",
    "\n",
    "# # 创建目标增强数据目录\n",
    "# output_base_dir = \"./data/cats_and_dogs_2/validation\"\n",
    "# os.makedirs(os.path.join(output_base_dir, 'cats'), exist_ok=True)\n",
    "# os.makedirs(os.path.join(output_base_dir, 'dogs'), exist_ok=True)\n",
    "\n",
    "# # 创建数据增强生成器\n",
    "# dataGen = image.ImageDataGenerator(\n",
    "#     rescale=1./255,        # 归一化\n",
    "#     rotation_range=40,     # 随机旋转角度\n",
    "#     width_shift_range=0.2, # 随机水平移动\n",
    "#     height_shift_range=0.2,# 随机垂直移动\n",
    "#     shear_range=0.2,       # 随机剪切变换\n",
    "#     zoom_range=0.2,        # 随机缩放\n",
    "#     horizontal_flip=True,  # 随机水平翻转\n",
    "#     fill_mode='nearest'    # 填充新创建像素的方法\n",
    "# )\n",
    "\n",
    "# # 为每个类别分别创建数据生成器\n",
    "# for category in ['cats', 'dogs']:\n",
    "#     in_path = os.path.join(train_dir, category)\n",
    "#     out_path = os.path.join(output_base_dir, category)\n",
    "\n",
    "#     # 创建数据生成器\n",
    "#     gen_data = dataGen.flow_from_directory(\n",
    "#         directory=train_dir,\n",
    "#         classes=[category],  # 只生成当前类别的数据\n",
    "#         batch_size=32,\n",
    "#         shuffle=True,\n",
    "#         save_to_dir=out_path,\n",
    "#         save_prefix=\"gen\",\n",
    "#         target_size=(64, 64),\n",
    "#         class_mode='binary'  # 设置为'binary' 或 'categorical'，根据你的分类需求\n",
    "#     )\n",
    "\n",
    "#     # 生成和保存图像\n",
    "#     num_images = len(os.listdir(in_path))  # 获取原始图像数量\n",
    "#     steps = num_images // 32  # 计算生成批次的次数\n",
    "#     for _ in range(steps):  # 生成每一个批次\n",
    "#         _ = next(gen_data)  # 使用 next() 获取下一个批次"
   ],
   "outputs": [],
   "execution_count": null
  },
  {
   "cell_type": "code",
   "metadata": {
    "colab": {},
    "colab_type": "code",
    "id": "uyi-eUVGTe_j"
   },
   "source": [
    "import os\n",
    "import warnings\n",
    "\n",
    "warnings.filterwarnings(\"ignore\")\n",
    "import tensorflow as tf\n",
    "from tensorflow.keras.optimizers import Adam\n",
    "from tensorflow.keras.preprocessing.image import ImageDataGenerator\n",
    "from tensorflow.keras.layers import Dropout"
   ],
   "outputs": [],
   "execution_count": null
  },
  {
   "cell_type": "markdown",
   "metadata": {
    "colab_type": "text",
    "id": "gatL3NZbvj_p"
   },
   "source": [
    "### 指定好数据路径（训练和验证）"
   ]
  },
  {
   "cell_type": "code",
   "metadata": {
    "colab": {},
    "colab_type": "code",
    "collapsed": true,
    "id": "CRLCp-a6vtCN"
   },
   "source": [
    "# 数据所在文件夹\n",
    "base_dir = './data/cats_and_dogs_1'\n",
    "train_dir = os.path.join(base_dir, 'train')\n",
    "validation_dir = os.path.join(base_dir, 'validation')\n",
    "\n",
    "# 训练集\n",
    "train_cats_dir = os.path.join(train_dir, 'cats')\n",
    "train_dogs_dir = os.path.join(train_dir, 'dogs')\n",
    "\n",
    "# 验证集\n",
    "validation_cats_dir = os.path.join(validation_dir, 'cats')\n",
    "validation_dogs_dir = os.path.join(validation_dir, 'dogs')\n",
    "\n",
    "print(\"base_dir directory contents:\", os.listdir(base_dir))\n",
    "print(\"train_dir directory contents:\", os.listdir(train_dir))\n",
    "print(\"validation_dir directory contents:\", os.listdir(validation_dir))\n",
    "print(\"train_cats_dir directory contents:\", os.listdir(train_cats_dir))\n",
    "print(\"train_dogs_dir directory contents:\", os.listdir(train_dogs_dir))\n",
    "print(\"validation_cats_dir directory contents:\", os.listdir(validation_cats_dir))\n",
    "print(\"validation_dogs_dir directory contents:\", os.listdir(validation_dogs_dir))"
   ],
   "outputs": [],
   "execution_count": null
  },
  {
   "cell_type": "markdown",
   "metadata": {
    "colab_type": "text",
    "id": "D72OzHazUUK9"
   },
   "source": [
    "### 构建卷积神经网络模型\n",
    "- 几层都可以，大家可以随意玩\n",
    "- 如果用CPU训练，可以把输入设置的更小一些，一般输入大小更主要的决定了训练速度"
   ]
  },
  {
   "cell_type": "code",
   "metadata": {
    "colab": {
     "base_uri": "https://localhost:8080/",
     "height": 88
    },
    "colab_type": "code",
    "id": "Aedt-HNewUP3",
    "outputId": "09cc6986-eb07-499d-ea6f-714f8035f3f3"
   },
   "source": [
    "model = tf.keras.models.Sequential(\n",
    "    [\n",
    "        # 如果训练慢，可以把数据设置的更小一些\n",
    "        # 获取32个特征图，卷积大小为3x3 激活函数为relu 输入大小为64x64x3（用于限制输入数据的尺寸，提醒作用）\n",
    "        tf.keras.layers.Conv2D(32, (3, 3), activation=\"relu\", input_shape=(64, 64, 3)),\n",
    "        # 池化层，池化大小为2x2\n",
    "        tf.keras.layers.MaxPooling2D(2, 2),\n",
    "        Dropout(0.2),\n",
    "        tf.keras.layers.Conv2D(64, (3, 3), activation=\"relu\"),\n",
    "        tf.keras.layers.MaxPooling2D(2, 2),\n",
    "        Dropout(0.2),\n",
    "        tf.keras.layers.Conv2D(128, (3, 3), activation=\"relu\"),\n",
    "        tf.keras.layers.MaxPooling2D(2, 2),\n",
    "        # 为全连接层准备，转成1维矩阵数据\n",
    "        tf.keras.layers.Flatten(),\n",
    "        # 全连接层，神经元层个数设为512，激活函数为relu\n",
    "        # 512个神经元，用于组合和处理从卷积层提取的特征。选择512个神经元是为了在特征处理能力和计算资源之间取得平衡。\n",
    "        tf.keras.layers.Dense(512, activation=\"relu\"),\n",
    "        # 二分类sigmoid就够了，1个神经元，激活函数为sigmoid，用于二分类\n",
    "        # sigmoid 表示在0和1之间，0表示狗，1表示猫\n",
    "        tf.keras.layers.Dense(1, activation=\"sigmoid\"),\n",
    "    ]\n",
    ")"
   ],
   "outputs": [],
   "execution_count": null
  },
  {
   "cell_type": "code",
   "metadata": {
    "colab": {
     "base_uri": "https://localhost:8080/",
     "height": 527
    },
    "colab_type": "code",
    "id": "tDtm3juUWpw6",
    "outputId": "7822dc4f-3aa1-47bc-a635-f5161b71d079"
   },
   "source": [
    "model.summary()"
   ],
   "outputs": [],
   "execution_count": null
  },
  {
   "cell_type": "markdown",
   "metadata": {
    "colab_type": "text",
    "id": "GFnJT_vVWn1M"
   },
   "source": [
    "配置训练器"
   ]
  },
  {
   "cell_type": "code",
   "metadata": {
    "colab": {
     "base_uri": "https://localhost:8080/",
     "height": 88
    },
    "colab_type": "code",
    "id": "anR2p_UMX9TA",
    "outputId": "b816458e-2cf8-4f30-a953-cb11f9f9a157"
   },
   "source": [
    "model.compile(loss='binary_crossentropy',\n",
    "              optimizer=Adam(learning_rate=1e-4),\n",
    "              metrics=['acc'])"
   ],
   "outputs": [],
   "execution_count": null
  },
  {
   "cell_type": "markdown",
   "metadata": {},
   "source": [
    "### 数据预处理\n",
    "\n",
    "- 读进来的数据会被自动转换成tensor(float32)格式，分别准备训练和验证\n",
    "- 图像数据归一化（0-1）区间"
   ]
  },
  {
   "cell_type": "code",
   "metadata": {
    "colab": {},
    "colab_type": "code",
    "collapsed": true,
    "id": "6iogIhqTxGeX"
   },
   "source": [
    "train_datagen = ImageDataGenerator(rescale=1. / 255)\n",
    "test_datagen = ImageDataGenerator(rescale=1. / 255)"
   ],
   "outputs": [],
   "execution_count": null
  },
  {
   "cell_type": "code",
   "metadata": {
    "colab": {
     "base_uri": "https://localhost:8080/",
     "height": 51
    },
    "colab_type": "code",
    "id": "f9D_MjIHx2XD",
    "outputId": "abc41e7c-48a1-4dad-b3fe-4442f2cf6953"
   },
   "source": [
    "train_generator = train_datagen.flow_from_directory(\n",
    "    train_dir,  # 文件夹路径\n",
    "    batch_size=20,\n",
    "    target_size=(64, 64),\n",
    "    # 如果one-hot就是categorical，二分类用binary就可以\n",
    "    class_mode=\"binary\",\n",
    ")\n",
    "\n",
    "validation_generator = test_datagen.flow_from_directory(\n",
    "    validation_dir, batch_size=20, class_mode=\"binary\", target_size=(64, 64)\n",
    ")"
   ],
   "outputs": [],
   "execution_count": null
  },
  {
   "cell_type": "markdown",
   "metadata": {
    "colab_type": "text",
    "id": "I8TfHlDGx8Gz"
   },
   "source": [
    "### 训练网络模型\n",
    "- 直接fit也可以，但是通常咱们不能把所有数据全部放入内存，fit_generator相当于一个生成器，动态产生所需的batch数据\n",
    "- steps_per_epoch相当给定一个停止条件，因为生成器会不断产生batch数据，说白了就是它不知道一个epoch里需要执行多少个step"
   ]
  },
  {
   "cell_type": "code",
   "metadata": {
    "colab": {
     "base_uri": "https://localhost:8080/",
     "height": 1000
    },
    "colab_type": "code",
    "id": "m6yLZpibyMXB",
    "outputId": "7944b730-b558-4ee7-9ed7-18021ed7af4a"
   },
   "source": [
    "history = model.fit(\n",
    "    train_generator,\n",
    "    steps_per_epoch=100,  # 2000 images = batch_size * steps\n",
    "    epochs=20,\n",
    "    validation_data=validation_generator,\n",
    "    validation_steps=50,  # 1000 images = batch_size * steps\n",
    "    verbose=2)"
   ],
   "outputs": [],
   "execution_count": null
  },
  {
   "cell_type": "markdown",
   "metadata": {
    "colab_type": "text",
    "id": "jJFgckBNyhu8"
   },
   "source": [
    "### 效果展示"
   ]
  },
  {
   "cell_type": "code",
   "metadata": {
    "colab": {
     "base_uri": "https://localhost:8080/",
     "height": 545
    },
    "colab_type": "code",
    "id": "Bc-Y9ymQz1nq",
    "outputId": "391f6998-8282-480d-b857-0dd569d0e661"
   },
   "source": [
    "import matplotlib.pyplot as plt\n",
    "\n",
    "acc = history.history['acc']\n",
    "val_acc = history.history['val_acc']\n",
    "loss = history.history['loss']\n",
    "val_loss = history.history['val_loss']\n",
    "\n",
    "epochs = range(len(acc))\n",
    "\n",
    "plt.plot(epochs, acc, 'bo', label='Training accuracy')\n",
    "plt.plot(epochs, val_acc, 'b', label='Validation accuracy')\n",
    "plt.title('Training and validation accuracy')\n",
    "\n",
    "plt.figure()\n",
    "\n",
    "plt.plot(epochs, loss, 'bo', label='Training Loss')\n",
    "plt.plot(epochs, val_loss, 'b', label='Validation Loss')\n",
    "plt.title('Training and validation loss')\n",
    "plt.legend()\n",
    "\n",
    "plt.show()"
   ],
   "outputs": [],
   "execution_count": null
  },
  {
   "cell_type": "markdown",
   "metadata": {},
   "source": [
    "看起来完全过拟合了，如何解决呢？"
   ]
  },
  {
   "cell_type": "code",
   "metadata": {},
   "source": [
    "# 保存模型\n",
    "model.save(\"cat_dog_model.h5\")"
   ],
   "outputs": [],
   "execution_count": null
  }
 ],
 "metadata": {
  "accelerator": "GPU",
  "colab": {
   "collapsed_sections": [],
   "name": "dogsVcats_subset_v2",
   "provenance": [],
   "version": "0.3.2"
  },
  "kernelspec": {
   "display_name": "Python 3",
   "language": "python",
   "name": "python3"
  },
  "language_info": {
   "codemirror_mode": {
    "name": "ipython",
    "version": 3
   },
   "file_extension": ".py",
   "mimetype": "text/x-python",
   "name": "python",
   "nbconvert_exporter": "python",
   "pygments_lexer": "ipython3",
   "version": "3.12.4"
  }
 },
 "nbformat": 4,
 "nbformat_minor": 1
}
