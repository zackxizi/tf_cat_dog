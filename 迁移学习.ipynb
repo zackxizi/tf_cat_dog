{
 "cells": [
  {
   "cell_type": "markdown",
   "metadata": {
    "colab_type": "text",
    "id": "PVKTs6_LUizi"
   },
   "source": [
    "## 迁移学习\n",
    "- 用人家训练好模型的权重参数当做咱们的初始化\n",
    "- 一般全连接层需要自己训练，可以选择是否训练别人训练好的特征提取层"
   ]
  },
  {
   "cell_type": "code",
   "execution_count": 1,
   "metadata": {
    "colab": {},
    "colab_type": "code",
    "id": "r8VU6BS4Un97"
   },
   "outputs": [],
   "source": [
    "import os\n",
    "import warnings\n",
    "warnings.filterwarnings(\"ignore\")\n",
    "import matplotlib.pyplot as plt\n",
    "import tensorflow as tf\n",
    "from tensorflow.keras.optimizers import Adam\n",
    "from tensorflow.keras.preprocessing.image import ImageDataGenerator\n",
    "from tensorflow.keras import layers\n",
    "from tensorflow.keras import Model"
   ]
  },
  {
   "cell_type": "code",
   "execution_count": 2,
   "metadata": {
    "colab": {},
    "colab_type": "code",
    "collapsed": true,
    "id": "-LpXqsLrUrUU"
   },
   "outputs": [],
   "source": [
    "base_dir = './data/cats_and_dogs'\n",
    "train_dir = os.path.join(base_dir, 'train')\n",
    "validation_dir = os.path.join(base_dir, 'validation')\n",
    "\n",
    "train_cats_dir = os.path.join(train_dir, 'cats')\n",
    "train_dogs_dir = os.path.join(train_dir, 'dogs')\n",
    "\n",
    "validation_cats_dir = os.path.join(validation_dir, 'cats')\n",
    "validation_dogs_dir = os.path.join(validation_dir, 'dogs')"
   ]
  },
  {
   "cell_type": "markdown",
   "metadata": {},
   "source": [
    "### tensorflow.keras.applications\n",
    "- 里面有很多现成训练好的模型可以直接利用"
   ]
  },
  {
   "cell_type": "code",
   "execution_count": 3,
   "metadata": {
    "colab": {},
    "colab_type": "code",
    "id": "Xym1QZAdVHJI"
   },
   "outputs": [],
   "source": [
    "### 导入模型\n",
    "from tf.keras.applications.resnet import ResNet50\n",
    "from tensorflow.keras.applications.resnet import ResNet101\n",
    "from tensorflow.keras.applications.inception_v3 import InceptionV3"
   ]
  },
  {
   "cell_type": "code",
   "execution_count": 4,
   "metadata": {
    "colab": {
     "base_uri": "https://localhost:8080/",
     "height": 126
    },
    "colab_type": "code",
    "id": "SRw5V6ciWw6v",
    "outputId": "89de21ee-edaa-4d14-bdee-28411e4051a0"
   },
   "outputs": [],
   "source": [
    "pre_trained_model = ResNet101(input_shape = (75, 75, 3), # 输入大小\n",
    "                                include_top = False, # 不要最后的全连接层\n",
    "                                weights = 'imagenet')"
   ]
  },
  {
   "cell_type": "markdown",
   "metadata": {
    "colab_type": "text",
    "id": "LCIDjGoOYFy7"
   },
   "source": [
    "可以选择训练哪些层"
   ]
  },
  {
   "cell_type": "code",
   "execution_count": 5,
   "metadata": {
    "colab": {},
    "colab_type": "code",
    "collapsed": true,
    "id": "mi44X5E8XBxK"
   },
   "outputs": [],
   "source": [
    "for layer in pre_trained_model.layers:\n",
    "    layer.trainable = False"
   ]
  },
  {
   "cell_type": "markdown",
   "metadata": {},
   "source": [
    "### callback的作用\n",
    "\n",
    "- 相当于一个监视器，在训练过程中可以设置一些自定义项，比如提前停止，改变学习率等\n",
    "\n",
    "callbacks = [\n",
    "\n",
    "  如果连续两个epoch还没降低就停止：\n",
    "  \n",
    "      tf.keras.callbacks.EarlyStopping(patience=2, monitor='val_loss'),\n",
    "  \n",
    "  可以动态改变学习率：\n",
    "  \n",
    "      tf.keras.callbacks.LearningRateScheduler\n",
    "      \n",
    "  保存模型：\n",
    "  \n",
    "      tf.keras.callbacks.ModelCheckpoint\n",
    "      \n",
    "  自定义方法：\n",
    "  \n",
    "      tf.keras.callbacks.Callback\n",
    "]"
   ]
  },
  {
   "cell_type": "code",
   "execution_count": 6,
   "metadata": {
    "colab": {},
    "colab_type": "code",
    "collapsed": true,
    "id": "evg3SqLIYZwA"
   },
   "outputs": [],
   "source": [
    "class myCallback(tf.keras.callbacks.Callback):\n",
    "    def on_epoch_end(self, epoch, logs={}):\n",
    "        if(logs.get('acc')>0.95):\n",
    "            print(\"\\nReached 95% accuracy so cancelling training!\")\n",
    "            self.model.stop_training = True"
   ]
  },
  {
   "cell_type": "code",
   "execution_count": 7,
   "metadata": {
    "colab": {
     "base_uri": "https://localhost:8080/",
     "height": 90
    },
    "colab_type": "code",
    "id": "NcL9JswMYcrD",
    "outputId": "ce70442a-a7db-4e9f-a166-6dc3c9fdbddf"
   },
   "outputs": [],
   "source": [
    "from tensorflow.keras.optimizers import Adam\n",
    "\n",
    "# 为全连接层准备\n",
    "x = layers.Flatten()(pre_trained_model.output)\n",
    "# 加入全连接层，这个需要重头训练的\n",
    "x = layers.Dense(1024, activation='relu')(x)\n",
    "x = layers.Dropout(0.2)(x)                  \n",
    "# 输出层\n",
    "x = layers.Dense(1, activation='sigmoid')(x)           \n",
    "# 构建模型序列\n",
    "model = Model(pre_trained_model.input, x) \n",
    "\n",
    "model.compile(optimizer = Adam(lr=0.001), \n",
    "              loss = 'binary_crossentropy', \n",
    "              metrics = ['acc'])"
   ]
  },
  {
   "cell_type": "code",
   "execution_count": 8,
   "metadata": {
    "colab": {
     "base_uri": "https://localhost:8080/",
     "height": 52
    },
    "colab_type": "code",
    "id": "o3-sSPttZNMq",
    "outputId": "55b1da7d-180f-4f5c-ad48-cacfb195f3b8"
   },
   "outputs": [
    {
     "name": "stdout",
     "output_type": "stream",
     "text": [
      "Found 2000 images belonging to 2 classes.\n",
      "Found 1000 images belonging to 2 classes.\n"
     ]
    }
   ],
   "source": [
    "train_datagen = ImageDataGenerator(rescale = 1./255.,\n",
    "                                   rotation_range = 40,\n",
    "                                   width_shift_range = 0.2,\n",
    "                                   height_shift_range = 0.2,\n",
    "                                   shear_range = 0.2,\n",
    "                                   zoom_range = 0.2,\n",
    "                                   horizontal_flip = True)\n",
    "\n",
    "test_datagen = ImageDataGenerator( rescale = 1.0/255. )\n",
    "\n",
    "train_generator = train_datagen.flow_from_directory(train_dir,\n",
    "                                                    batch_size = 20,\n",
    "                                                    class_mode = 'binary', \n",
    "                                                    target_size = (75, 75))     \n",
    "\n",
    "validation_generator =  test_datagen.flow_from_directory( validation_dir,\n",
    "                                                          batch_size  = 20,\n",
    "                                                          class_mode  = 'binary', \n",
    "                                                          target_size = (75, 75))"
   ]
  },
  {
   "cell_type": "markdown",
   "metadata": {},
   "source": [
    "### 训练模型\n",
    "- 加入Callback()模块"
   ]
  },
  {
   "cell_type": "code",
   "execution_count": 9,
   "metadata": {
    "colab": {
     "base_uri": "https://localhost:8080/",
     "height": 1000
    },
    "colab_type": "code",
    "id": "0T_zGQmxa4j0",
    "outputId": "a12399a4-62d0-4033-c9c2-bca06a8ed325"
   },
   "outputs": [
    {
     "name": "stdout",
     "output_type": "stream",
     "text": [
      "Epoch 1/100\n",
      "100/100 - 77s - loss: 0.7548 - acc: 0.5505 - val_loss: 1.3740 - val_acc: 0.5380\n",
      "Epoch 2/100\n",
      "100/100 - 77s - loss: 0.6978 - acc: 0.5555 - val_loss: 0.9346 - val_acc: 0.5490\n",
      "Epoch 3/100\n",
      "100/100 - 78s - loss: 0.6814 - acc: 0.5815 - val_loss: 0.7062 - val_acc: 0.6250\n",
      "Epoch 4/100\n",
      "100/100 - 79s - loss: 0.6597 - acc: 0.6105 - val_loss: 0.7544 - val_acc: 0.6090\n",
      "Epoch 5/100\n",
      "100/100 - 80s - loss: 0.6761 - acc: 0.5920 - val_loss: 0.8452 - val_acc: 0.6000\n",
      "Epoch 6/100\n",
      "100/100 - 79s - loss: 0.6509 - acc: 0.6195 - val_loss: 0.7476 - val_acc: 0.6310\n",
      "Epoch 7/100\n",
      "100/100 - 79s - loss: 0.6597 - acc: 0.6090 - val_loss: 0.7040 - val_acc: 0.6240\n",
      "Epoch 8/100\n",
      "100/100 - 79s - loss: 0.6569 - acc: 0.6100 - val_loss: 0.8864 - val_acc: 0.5940\n",
      "Epoch 9/100\n",
      "100/100 - 77s - loss: 0.6500 - acc: 0.6005 - val_loss: 0.9302 - val_acc: 0.5930\n",
      "Epoch 10/100\n",
      "100/100 - 77s - loss: 0.6595 - acc: 0.5985 - val_loss: 0.7211 - val_acc: 0.6360\n",
      "Epoch 11/100\n",
      "100/100 - 77s - loss: 0.6545 - acc: 0.6130 - val_loss: 0.7033 - val_acc: 0.6400\n",
      "Epoch 12/100\n",
      "100/100 - 77s - loss: 0.6439 - acc: 0.6280 - val_loss: 0.6880 - val_acc: 0.6720\n",
      "Epoch 13/100\n",
      "100/100 - 76s - loss: 0.6413 - acc: 0.6285 - val_loss: 0.6993 - val_acc: 0.6640\n",
      "Epoch 14/100\n",
      "100/100 - 76s - loss: 0.6420 - acc: 0.6365 - val_loss: 0.6990 - val_acc: 0.6660\n",
      "Epoch 15/100\n",
      "100/100 - 77s - loss: 0.6268 - acc: 0.6565 - val_loss: 0.7018 - val_acc: 0.6810\n",
      "Epoch 16/100\n",
      "100/100 - 79s - loss: 0.6412 - acc: 0.6460 - val_loss: 0.7019 - val_acc: 0.6580\n",
      "Epoch 17/100\n",
      "100/100 - 79s - loss: 0.6403 - acc: 0.6225 - val_loss: 0.6731 - val_acc: 0.6610\n",
      "Epoch 18/100\n",
      "100/100 - 78s - loss: 0.6342 - acc: 0.6405 - val_loss: 0.6508 - val_acc: 0.6520\n",
      "Epoch 19/100\n",
      "100/100 - 80s - loss: 0.6376 - acc: 0.6300 - val_loss: 0.6924 - val_acc: 0.6530\n",
      "Epoch 20/100\n",
      "100/100 - 81s - loss: 0.6394 - acc: 0.6435 - val_loss: 0.6595 - val_acc: 0.6580\n",
      "Epoch 21/100\n",
      "100/100 - 80s - loss: 0.6445 - acc: 0.6210 - val_loss: 0.6586 - val_acc: 0.6700\n",
      "Epoch 22/100\n",
      "100/100 - 79s - loss: 0.6323 - acc: 0.6475 - val_loss: 0.7990 - val_acc: 0.6440\n",
      "Epoch 23/100\n",
      "100/100 - 81s - loss: 0.6330 - acc: 0.6405 - val_loss: 0.6829 - val_acc: 0.6760\n",
      "Epoch 24/100\n",
      "100/100 - 77s - loss: 0.6373 - acc: 0.6395 - val_loss: 1.2556 - val_acc: 0.5730\n",
      "Epoch 25/100\n",
      "100/100 - 77s - loss: 0.6387 - acc: 0.6475 - val_loss: 0.7523 - val_acc: 0.6620\n",
      "Epoch 26/100\n",
      "100/100 - 76s - loss: 0.6461 - acc: 0.6080 - val_loss: 0.7113 - val_acc: 0.6580\n",
      "Epoch 27/100\n",
      "100/100 - 77s - loss: 0.6389 - acc: 0.6290 - val_loss: 0.7272 - val_acc: 0.6610\n",
      "Epoch 28/100\n",
      "100/100 - 76s - loss: 0.6272 - acc: 0.6460 - val_loss: 0.6400 - val_acc: 0.6810\n",
      "Epoch 29/100\n",
      "100/100 - 76s - loss: 0.6450 - acc: 0.6340 - val_loss: 0.6952 - val_acc: 0.6580\n",
      "Epoch 30/100\n",
      "100/100 - 76s - loss: 0.6301 - acc: 0.6340 - val_loss: 0.6938 - val_acc: 0.6520\n",
      "Epoch 31/100\n",
      "100/100 - 77s - loss: 0.6348 - acc: 0.6345 - val_loss: 0.7710 - val_acc: 0.6320\n",
      "Epoch 32/100\n",
      "100/100 - 77s - loss: 0.6366 - acc: 0.6325 - val_loss: 0.7746 - val_acc: 0.6660\n",
      "Epoch 33/100\n",
      "100/100 - 76s - loss: 0.6373 - acc: 0.6345 - val_loss: 0.6239 - val_acc: 0.6810\n",
      "Epoch 34/100\n",
      "100/100 - 76s - loss: 0.6338 - acc: 0.6365 - val_loss: 0.6328 - val_acc: 0.6870\n",
      "Epoch 35/100\n",
      "100/100 - 77s - loss: 0.6508 - acc: 0.6180 - val_loss: 0.6324 - val_acc: 0.6790\n",
      "Epoch 36/100\n",
      "100/100 - 77s - loss: 0.6326 - acc: 0.6250 - val_loss: 0.6755 - val_acc: 0.6720\n",
      "Epoch 37/100\n",
      "100/100 - 77s - loss: 0.6184 - acc: 0.6565 - val_loss: 0.6720 - val_acc: 0.6730\n",
      "Epoch 38/100\n",
      "100/100 - 77s - loss: 0.6353 - acc: 0.6400 - val_loss: 0.6572 - val_acc: 0.6800\n",
      "Epoch 39/100\n",
      "100/100 - 77s - loss: 0.6412 - acc: 0.6265 - val_loss: 0.6456 - val_acc: 0.6710\n",
      "Epoch 40/100\n",
      "100/100 - 77s - loss: 0.6225 - acc: 0.6550 - val_loss: 0.7137 - val_acc: 0.6890\n",
      "Epoch 41/100\n",
      "100/100 - 77s - loss: 0.6399 - acc: 0.6315 - val_loss: 0.6567 - val_acc: 0.6780\n",
      "Epoch 42/100\n",
      "100/100 - 77s - loss: 0.6241 - acc: 0.6415 - val_loss: 0.6424 - val_acc: 0.6780\n",
      "Epoch 43/100\n",
      "100/100 - 77s - loss: 0.6318 - acc: 0.6390 - val_loss: 0.6658 - val_acc: 0.6920\n",
      "Epoch 44/100\n",
      "100/100 - 77s - loss: 0.6332 - acc: 0.6355 - val_loss: 0.6864 - val_acc: 0.6690\n",
      "Epoch 45/100\n",
      "100/100 - 77s - loss: 0.6284 - acc: 0.6330 - val_loss: 0.7277 - val_acc: 0.6500\n",
      "Epoch 46/100\n",
      "100/100 - 77s - loss: 0.6349 - acc: 0.6480 - val_loss: 0.6196 - val_acc: 0.6930\n",
      "Epoch 47/100\n",
      "100/100 - 77s - loss: 0.6350 - acc: 0.6410 - val_loss: 0.6203 - val_acc: 0.6840\n",
      "Epoch 48/100\n",
      "100/100 - 77s - loss: 0.6300 - acc: 0.6500 - val_loss: 0.6938 - val_acc: 0.6810\n",
      "Epoch 49/100\n",
      "100/100 - 77s - loss: 0.6257 - acc: 0.6370 - val_loss: 0.7034 - val_acc: 0.6650\n",
      "Epoch 50/100\n",
      "100/100 - 77s - loss: 0.6299 - acc: 0.6415 - val_loss: 0.7152 - val_acc: 0.6760\n",
      "Epoch 51/100\n",
      "100/100 - 77s - loss: 0.6436 - acc: 0.6255 - val_loss: 0.6197 - val_acc: 0.6900\n",
      "Epoch 52/100\n",
      "100/100 - 77s - loss: 0.6286 - acc: 0.6440 - val_loss: 0.6356 - val_acc: 0.6930\n",
      "Epoch 53/100\n",
      "100/100 - 77s - loss: 0.6315 - acc: 0.6375 - val_loss: 0.6255 - val_acc: 0.6950\n",
      "Epoch 54/100\n",
      "100/100 - 77s - loss: 0.6305 - acc: 0.6550 - val_loss: 0.6912 - val_acc: 0.6620\n",
      "Epoch 55/100\n",
      "100/100 - 77s - loss: 0.6210 - acc: 0.6520 - val_loss: 0.6576 - val_acc: 0.6860\n",
      "Epoch 56/100\n",
      "100/100 - 77s - loss: 0.6164 - acc: 0.6600 - val_loss: 0.6931 - val_acc: 0.6800\n",
      "Epoch 57/100\n",
      "100/100 - 77s - loss: 0.6189 - acc: 0.6490 - val_loss: 0.6467 - val_acc: 0.6810\n",
      "Epoch 58/100\n",
      "100/100 - 77s - loss: 0.6283 - acc: 0.6465 - val_loss: 0.6495 - val_acc: 0.6790\n",
      "Epoch 59/100\n",
      "100/100 - 77s - loss: 0.6218 - acc: 0.6540 - val_loss: 0.6928 - val_acc: 0.6720\n",
      "Epoch 60/100\n",
      "100/100 - 77s - loss: 0.6433 - acc: 0.6265 - val_loss: 0.6330 - val_acc: 0.6610\n",
      "Epoch 61/100\n",
      "100/100 - 77s - loss: 0.6308 - acc: 0.6350 - val_loss: 0.7429 - val_acc: 0.6580\n",
      "Epoch 62/100\n",
      "100/100 - 77s - loss: 0.6212 - acc: 0.6620 - val_loss: 0.7693 - val_acc: 0.6610\n",
      "Epoch 63/100\n",
      "100/100 - 76s - loss: 0.6366 - acc: 0.6250 - val_loss: 0.6932 - val_acc: 0.6680\n",
      "Epoch 64/100\n",
      "100/100 - 76s - loss: 0.6084 - acc: 0.6660 - val_loss: 0.7673 - val_acc: 0.6610\n",
      "Epoch 65/100\n",
      "100/100 - 76s - loss: 0.6254 - acc: 0.6515 - val_loss: 0.7714 - val_acc: 0.6590\n",
      "Epoch 66/100\n",
      "100/100 - 76s - loss: 0.6221 - acc: 0.6400 - val_loss: 0.6648 - val_acc: 0.6810\n",
      "Epoch 67/100\n",
      "100/100 - 77s - loss: 0.6212 - acc: 0.6540 - val_loss: 0.7281 - val_acc: 0.6740\n",
      "Epoch 68/100\n",
      "100/100 - 76s - loss: 0.6161 - acc: 0.6565 - val_loss: 0.6664 - val_acc: 0.6840\n",
      "Epoch 69/100\n",
      "100/100 - 76s - loss: 0.6185 - acc: 0.6415 - val_loss: 0.7096 - val_acc: 0.6640\n",
      "Epoch 70/100\n",
      "100/100 - 76s - loss: 0.6267 - acc: 0.6380 - val_loss: 0.6818 - val_acc: 0.6670\n",
      "Epoch 71/100\n",
      "100/100 - 76s - loss: 0.6266 - acc: 0.6510 - val_loss: 0.6799 - val_acc: 0.6790\n",
      "Epoch 72/100\n",
      "100/100 - 76s - loss: 0.6254 - acc: 0.6545 - val_loss: 0.6792 - val_acc: 0.6810\n",
      "Epoch 73/100\n",
      "100/100 - 76s - loss: 0.6162 - acc: 0.6590 - val_loss: 0.6698 - val_acc: 0.6910\n",
      "Epoch 74/100\n",
      "100/100 - 77s - loss: 0.6213 - acc: 0.6530 - val_loss: 0.6964 - val_acc: 0.6880\n",
      "Epoch 75/100\n",
      "100/100 - 77s - loss: 0.6161 - acc: 0.6550 - val_loss: 0.7460 - val_acc: 0.6720\n",
      "Epoch 76/100\n",
      "100/100 - 76s - loss: 0.6250 - acc: 0.6390 - val_loss: 0.7319 - val_acc: 0.6620\n",
      "Epoch 77/100\n",
      "100/100 - 76s - loss: 0.6209 - acc: 0.6615 - val_loss: 0.6558 - val_acc: 0.6780\n",
      "Epoch 78/100\n",
      "100/100 - 76s - loss: 0.6196 - acc: 0.6610 - val_loss: 0.7696 - val_acc: 0.6560\n",
      "Epoch 79/100\n",
      "100/100 - 76s - loss: 0.6402 - acc: 0.6290 - val_loss: 0.6483 - val_acc: 0.6770\n",
      "Epoch 80/100\n",
      "100/100 - 76s - loss: 0.6099 - acc: 0.6700 - val_loss: 0.7280 - val_acc: 0.6650\n",
      "Epoch 81/100\n",
      "100/100 - 76s - loss: 0.6107 - acc: 0.6640 - val_loss: 0.6291 - val_acc: 0.6890\n",
      "Epoch 82/100\n",
      "100/100 - 76s - loss: 0.6259 - acc: 0.6460 - val_loss: 0.7285 - val_acc: 0.6800\n",
      "Epoch 83/100\n",
      "100/100 - 76s - loss: 0.6304 - acc: 0.6520 - val_loss: 0.6812 - val_acc: 0.6770\n",
      "Epoch 84/100\n",
      "100/100 - 76s - loss: 0.6261 - acc: 0.6470 - val_loss: 0.7160 - val_acc: 0.6560\n",
      "Epoch 85/100\n",
      "100/100 - 76s - loss: 0.6241 - acc: 0.6425 - val_loss: 0.6268 - val_acc: 0.6780\n",
      "Epoch 86/100\n",
      "100/100 - 76s - loss: 0.6124 - acc: 0.6590 - val_loss: 0.6652 - val_acc: 0.6790\n",
      "Epoch 87/100\n",
      "100/100 - 76s - loss: 0.6282 - acc: 0.6400 - val_loss: 0.6730 - val_acc: 0.6650\n",
      "Epoch 88/100\n",
      "100/100 - 76s - loss: 0.6237 - acc: 0.6580 - val_loss: 0.6692 - val_acc: 0.6920\n",
      "Epoch 89/100\n",
      "100/100 - 76s - loss: 0.6305 - acc: 0.6390 - val_loss: 0.6384 - val_acc: 0.6820\n"
     ]
    },
    {
     "name": "stdout",
     "output_type": "stream",
     "text": [
      "Epoch 90/100\n",
      "100/100 - 76s - loss: 0.6310 - acc: 0.6340 - val_loss: 0.6588 - val_acc: 0.6760\n",
      "Epoch 91/100\n",
      "100/100 - 76s - loss: 0.6166 - acc: 0.6660 - val_loss: 0.6695 - val_acc: 0.6740\n",
      "Epoch 92/100\n",
      "100/100 - 76s - loss: 0.6072 - acc: 0.6570 - val_loss: 0.6696 - val_acc: 0.6890\n",
      "Epoch 93/100\n",
      "100/100 - 76s - loss: 0.6074 - acc: 0.6675 - val_loss: 0.7144 - val_acc: 0.6920\n",
      "Epoch 94/100\n",
      "100/100 - 76s - loss: 0.6256 - acc: 0.6430 - val_loss: 0.6395 - val_acc: 0.6780\n",
      "Epoch 95/100\n",
      "100/100 - 76s - loss: 0.6280 - acc: 0.6550 - val_loss: 0.6525 - val_acc: 0.6740\n",
      "Epoch 96/100\n",
      "100/100 - 76s - loss: 0.6094 - acc: 0.6490 - val_loss: 0.6866 - val_acc: 0.6770\n",
      "Epoch 97/100\n",
      "100/100 - 76s - loss: 0.6264 - acc: 0.6540 - val_loss: 0.7169 - val_acc: 0.6630\n",
      "Epoch 98/100\n",
      "100/100 - 76s - loss: 0.6114 - acc: 0.6700 - val_loss: 0.6980 - val_acc: 0.6760\n",
      "Epoch 99/100\n",
      "100/100 - 76s - loss: 0.6138 - acc: 0.6655 - val_loss: 0.6570 - val_acc: 0.6900\n",
      "Epoch 100/100\n",
      "100/100 - 76s - loss: 0.5993 - acc: 0.6735 - val_loss: 0.7176 - val_acc: 0.6910\n"
     ]
    }
   ],
   "source": [
    "callbacks = myCallback()\n",
    "history = model.fit_generator(\n",
    "            train_generator,\n",
    "            validation_data = validation_generator,\n",
    "            steps_per_epoch = 100,\n",
    "            epochs = 100,\n",
    "            validation_steps = 50,\n",
    "            verbose = 2,\n",
    "            callbacks=[callbacks])"
   ]
  },
  {
   "cell_type": "markdown",
   "metadata": {
    "colab_type": "text",
    "id": "yHcu9_-5kTd0"
   },
   "source": [
    "绘图展示"
   ]
  },
  {
   "cell_type": "code",
   "execution_count": 10,
   "metadata": {
    "colab": {
     "base_uri": "https://localhost:8080/",
     "height": 545
    },
    "colab_type": "code",
    "id": "svffv8FfbBBF",
    "outputId": "738342f2-2a3e-47f3-ca5d-ffb566318386"
   },
   "outputs": [
    {
     "data": {
      "image/png": "[encoded data removed]",
      "text/plain": [
       "<Figure size 432x288 with 1 Axes>"
      ]
     },
     "metadata": {},
     "output_type": "display_data"
    },
    {
     "data": {
      "image/png": "[encoded data removed]",
      "text/plain": [
       "<Figure size 432x288 with 1 Axes>"
      ]
     },
     "metadata": {},
     "output_type": "display_data"
    }
   ],
   "source": [
    "import matplotlib.pyplot as plt\n",
    "acc = history.history['acc']\n",
    "val_acc = history.history['val_acc']\n",
    "loss = history.history['loss']\n",
    "val_loss = history.history['val_loss']\n",
    "\n",
    "epochs = range(len(acc))\n",
    "\n",
    "plt.plot(epochs, acc, 'b', label='Training accuracy')\n",
    "plt.plot(epochs, val_acc, 'r', label='Validation accuracy')\n",
    "plt.title('Training and validation accuracy')\n",
    "plt.legend()\n",
    "\n",
    "plt.figure()\n",
    "\n",
    "plt.plot(epochs, loss, 'b', label='Training Loss')\n",
    "plt.plot(epochs, val_loss, 'r', label='Validation Loss')\n",
    "plt.title('Training and validation loss')\n",
    "plt.legend()\n",
    "\n",
    "plt.show()"
   ]
  },
  {
   "cell_type": "markdown",
   "metadata": {
    "colab_type": "text",
    "id": "MAiYkPWRlTh3"
   },
   "source": [
    "### 也可以自己选择需要的层，也就是取到哪一层\n",
    "\n",
    "- last_layer = pre_trained_model.get_layer('层的名字') "
   ]
  }
 ],
 "metadata": {
  "accelerator": "GPU",
  "colab": {
   "collapsed_sections": [],
   "name": "transfer_learning_v2",
   "provenance": []
  },
  "kernelspec": {
   "display_name": "Python 3",
   "language": "python",
   "name": "python3"
  },
  "language_info": {
   "codemirror_mode": {
    "name": "ipython",
    "version": 3
   },
   "file_extension": ".py",
   "mimetype": "text/x-python",
   "name": "python",
   "nbconvert_exporter": "python",
   "pygments_lexer": "ipython3",
   "version": "3.6.3"
  }
 },
 "nbformat": 4,
 "nbformat_minor": 1
}
