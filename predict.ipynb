{
 "cells": [
  {
   "cell_type": "code",
   "execution_count": 1,
   "metadata": {},
   "outputs": [
    {
     "name": "stderr",
     "output_type": "stream",
     "text": [
      "WARNING:absl:Compiled the loaded model, but the compiled metrics have yet to be built. `model.compile_metrics` will be empty until you train or evaluate the model.\n"
     ]
    },
    {
     "name": "stdout",
     "output_type": "stream",
     "text": [
      "\u001b[1m1/1\u001b[0m \u001b[32m━━━━━━━━━━━━━━━━━━━━\u001b[0m\u001b[37m\u001b[0m \u001b[1m0s\u001b[0m 50ms/step\n",
      "[[0.8710254]]\n",
      "Predicted class: 1\n"
     ]
    }
   ],
   "source": [
    "import tensorflow as tf\n",
    "from tensorflow.keras.preprocessing import image\n",
    "import numpy as np\n",
    "\n",
    "# 加载模型\n",
    "model = tf.keras.models.load_model('cat_dog_model.h5')\n",
    "\n",
    "# 加载并预处理要预测的图像\n",
    "img_path = 'cat.jpg'\n",
    "img = image.load_img(img_path, target_size=(64, 64))\n",
    "img_array = image.img_to_array(img)\n",
    "img_array = np.expand_dims(img_array, axis=0)\n",
    "img_array /= 255.0  # 如果你在训练时做了归一化，需要在这里也做\n",
    "\n",
    "# 使用模型进行预测\n",
    "predictions = model.predict(img_array)\n",
    "print(predictions)\n",
    "\n",
    "# 根据你的模型输出进行进一步处理，比如二分类模型\n",
    "if predictions[0] > 0.5:\n",
    "    print(\"Predicted class: 1\")\n",
    "else:\n",
    "    print(\"Predicted class: 0\")"
   ]
  }
 ],
 "metadata": {
  "kernelspec": {
   "display_name": "tf-env",
   "language": "python",
   "name": "python3"
  },
  "language_info": {
   "codemirror_mode": {
    "name": "ipython",
    "version": 3
   },
   "file_extension": ".py",
   "mimetype": "text/x-python",
   "name": "python",
   "nbconvert_exporter": "python",
   "pygments_lexer": "ipython3",
   "version": "3.12.4"
  }
 },
 "nbformat": 4,
 "nbformat_minor": 2
}
