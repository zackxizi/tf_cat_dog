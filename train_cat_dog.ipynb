{
 "cells": [
  {
   "metadata": {},
   "cell_type": "markdown",
   "source": "## 强化图片"
  },
  {
   "cell_type": "code",
   "metadata": {
    "ExecuteTime": {
     "end_time": "2024-07-21T12:02:54.485308Z",
     "start_time": "2024-07-21T12:01:39.479681Z"
    }
   },
   "source": [
    "# 将所有的图片转成64x64的图片\n",
    "from os import path, makedirs, listdir\n",
    "from tensorflow.keras.preprocessing import image\n",
    "\n",
    "\n",
    "def genDir(c, type):\n",
    "    base_path = \"./data\"\n",
    "    cf = path.join(base_path, f\"cats_and_dogs/{type}\")\n",
    "    inner_path = path.join(cf, c)\n",
    "    out_path = path.join(base_path, \"cats_and_dogs_1\", type, c)\n",
    "    makedirs(out_path, exist_ok=True)\n",
    "    return [cf, inner_path, out_path]\n",
    "\n",
    "\n",
    "dataGen = image.ImageDataGenerator(\n",
    "    rescale=1.0 / 255,  # 归一化\n",
    "    rotation_range=20,\n",
    "    width_shift_range=0.2,  # 水平随机平移0.2\n",
    "    height_shift_range=0.2,  # 垂直随机平移0.2\n",
    "    shear_range=0.2,  # 随机剪切变换0.2\n",
    "    zoom_range=0.2,  # 随机缩放0.2\n",
    "    horizontal_flip=True,  # 水平翻转\n",
    "    fill_mode=\"nearest\",  # 填充新创建像素的方法\n",
    ")\n",
    "\n",
    "classes = [\"dogs\", \"cats\"]\n",
    "cfs = [\"train\", \"validation\"]\n",
    "\n",
    "\n",
    "def gen():\n",
    "    for j in cfs:\n",
    "        for c in classes:\n",
    "            cf, inner_path, out_path = genDir(c, j)\n",
    "            batch_size = 32\n",
    "            gen_data = dataGen.flow_from_directory(\n",
    "                directory=cf,\n",
    "                classes=[c],\n",
    "                batch_size=batch_size,\n",
    "                shuffle=True,\n",
    "                save_to_dir=out_path,\n",
    "                save_prefix=\"gen\",\n",
    "                target_size=[64, 64],\n",
    "                class_mode=\"binary\",\n",
    "            )\n",
    "\n",
    "            num_images = len(listdir(inner_path))\n",
    "            steps = num_images // batch_size\n",
    "\n",
    "            for i in range(steps):\n",
    "                next(gen_data)\n",
    "\n",
    "\n",
    "for i in range(10):\n",
    "    gen()"
   ],
   "outputs": [
    {
     "name": "stdout",
     "output_type": "stream",
     "text": [
      "Found 1000 images belonging to 1 classes.\n",
      "Found 1000 images belonging to 1 classes.\n",
      "Found 500 images belonging to 1 classes.\n",
      "Found 500 images belonging to 1 classes.\n",
      "Found 1000 images belonging to 1 classes.\n",
      "Found 1000 images belonging to 1 classes.\n",
      "Found 500 images belonging to 1 classes.\n",
      "Found 500 images belonging to 1 classes.\n",
      "Found 1000 images belonging to 1 classes.\n",
      "Found 1000 images belonging to 1 classes.\n",
      "Found 500 images belonging to 1 classes.\n",
      "Found 500 images belonging to 1 classes.\n",
      "Found 1000 images belonging to 1 classes.\n",
      "Found 1000 images belonging to 1 classes.\n",
      "Found 500 images belonging to 1 classes.\n",
      "Found 500 images belonging to 1 classes.\n",
      "Found 1000 images belonging to 1 classes.\n",
      "Found 1000 images belonging to 1 classes.\n",
      "Found 500 images belonging to 1 classes.\n",
      "Found 500 images belonging to 1 classes.\n",
      "Found 1000 images belonging to 1 classes.\n",
      "Found 1000 images belonging to 1 classes.\n",
      "Found 500 images belonging to 1 classes.\n",
      "Found 500 images belonging to 1 classes.\n",
      "Found 1000 images belonging to 1 classes.\n",
      "Found 1000 images belonging to 1 classes.\n",
      "Found 500 images belonging to 1 classes.\n",
      "Found 500 images belonging to 1 classes.\n",
      "Found 1000 images belonging to 1 classes.\n",
      "Found 1000 images belonging to 1 classes.\n",
      "Found 500 images belonging to 1 classes.\n",
      "Found 500 images belonging to 1 classes.\n",
      "Found 1000 images belonging to 1 classes.\n",
      "Found 1000 images belonging to 1 classes.\n",
      "Found 500 images belonging to 1 classes.\n",
      "Found 500 images belonging to 1 classes.\n",
      "Found 1000 images belonging to 1 classes.\n",
      "Found 1000 images belonging to 1 classes.\n",
      "Found 500 images belonging to 1 classes.\n",
      "Found 500 images belonging to 1 classes.\n"
     ]
    }
   ],
   "execution_count": 5
  },
  {
   "metadata": {},
   "cell_type": "markdown",
   "source": "## 训练"
  },
  {
   "metadata": {
    "ExecuteTime": {
     "end_time": "2024-07-21T12:15:11.466808Z",
     "start_time": "2024-07-21T12:03:29.841344Z"
    }
   },
   "cell_type": "code",
   "source": [
    "import os\n",
    "import math\n",
    "import warnings\n",
    "\n",
    "warnings.filterwarnings(\"ignore\")\n",
    "import tensorflow as tf\n",
    "from tensorflow.keras.optimizers import Adam  # 优化深度学习模型的算法\n",
    "from tensorflow.keras.preprocessing.image import ImageDataGenerator\n",
    "\n",
    "# 构建卷积神经网络\n",
    "model = tf.keras.Sequential([\n",
    "    # 第一个卷积层\n",
    "    # 生成32个特征 卷积大小3x3 激活函数 relu 输入图片的大小 64x6\n",
    "    # 数据特征尺寸 (64-3)/1+1 = 62,62x62\n",
    "    tf.keras.layers.Conv2D(32, [3, 3], activation='relu', input_shape=[64, 64, 3]),\n",
    "    tf.keras.layers.MaxPooling2D(2, 2),  # 池化层\n",
    "    tf.keras.layers.Dropout(0.2),  # 正则化\n",
    "\n",
    "    # 第二个卷积层\n",
    "    tf.keras.layers.Conv2D(64, [3, 3], activation='relu'),\n",
    "    tf.keras.layers.MaxPooling2D(2, 2),\n",
    "    tf.keras.layers.Dropout(0.2),\n",
    "\n",
    "    # 第三个卷积\n",
    "    tf.keras.layers.Conv2D(128, [3, 3], activation='relu'),\n",
    "    tf.keras.layers.MaxPooling2D(2, 2),\n",
    "    tf.keras.layers.Dropout(0.2),\n",
    "\n",
    "    # 为全链路准备，转成1维\n",
    "    tf.keras.layers.Flatten(),\n",
    "\n",
    "    # 512个神经元\n",
    "    tf.keras.layers.Dense(512, activation=\"relu\"),\n",
    "    tf.keras.layers.Dense(1, activation=\"sigmoid\")\n",
    "])\n",
    "\n",
    "# 打印模型的总结信息\n",
    "model.summary()\n",
    "\n",
    "# 配置训练器\n",
    "model.compile(\n",
    "    # 损失函数，用于衡量模型的预测值和实际值之间的差异\n",
    "    # binary_crossentropy 二分类交叉熵损失函数，通常用于二分类问题，它计算的是两个概率分布之间的差异\n",
    "    loss=\"binary_crossentropy\",\n",
    "    # 优化器用于更新模型的参数以最小化损失函数\n",
    "    optimizer=Adam(learning_rate=1e-4),\n",
    "    # 用于评估模型的性能。准确率（accuracy），是分类问题中常用的评价指标。它表示模型预测正确的样本占总样本的比例。在二分类问题中，准确率是衡量模型在测试集上表现的一个直观指标。\n",
    "    metrics=[\"acc\"]\n",
    ")\n",
    "\n",
    "# 数据预处理\n",
    "# 读进来的数据会被自动转换成tensor(float32)格式，分别准备训练和验证\n",
    "# 图像数据归一化（0-1）区间\n",
    "train_datagen = ImageDataGenerator(rescale=1. / 255)\n",
    "test_datagen = ImageDataGenerator(rescale=1. / 255)\n",
    "\n",
    "trainPath = os.path.join('./data/cats_and_dogs_1/train')\n",
    "testPath = os.path.join('./data/cats_and_dogs_1/validation')\n",
    "\n",
    "train_generator = train_datagen.flow_from_directory(\n",
    "    # 训练文件的位置，分类文件夹的父级文件夹\n",
    "    directory=trainPath,\n",
    "    # 训练 一批 次 的20张图片\n",
    "    batch_size=20,\n",
    "    # 训练图片的尺寸64x64\n",
    "    target_size=(64, 64),\n",
    "    # 参数决定了生成的标签数组的类型\n",
    "    # binary 用于二分类任务：生成二值标签，即每个样本的标签是 0 或 1\n",
    "    # categorical 用于多分类任务 生成分类标签，每个样本的标签是一个独热编码（one-hot encoded）数组\n",
    "    # sparse 用于多分类任务 生成稀疏标签，即每个样本的标签是一个整数（表示类索引）\n",
    "    # input 用于自编码器（autoencoder）等无监督学习任务 生成的标签是输入数据本身。即输出和输入是相同的\n",
    "    class_mode=\"binary\",\n",
    ")\n",
    "\n",
    "validation_generation = test_datagen.flow_from_directory(\n",
    "    directory=testPath,\n",
    "    batch_size=20,\n",
    "    target_size=(64, 64),\n",
    "    class_mode='binary'\n",
    ")\n",
    "\n",
    "# 训练网络模型\n",
    "# steps_per_epoch相当给定一个停止条件，因为生成器会不断产生batch数据，说白了就是它不知道一个epoch里需要执行多少个step\n",
    "train_num_dogs = len(os.listdir(os.path.join(trainPath, \"dogs\")))\n",
    "train_num_cats = len(os.listdir(os.path.join(trainPath, \"cats\")))\n",
    "validation_num_dogs = len(os.listdir(os.path.join(testPath, \"dogs\")))\n",
    "validation_num_cats = len(os.listdir(os.path.join(testPath, \"cats\")))\n",
    "epochs = 20\n",
    "history = model.fit(\n",
    "    # Input data\n",
    "    train_generator,\n",
    "    steps_per_epoch=None,\n",
    "    epochs=20,\n",
    "    validation_data=validation_generation,\n",
    "    validation_steps=None,\n",
    "    verbose=2,\n",
    ")"
   ],
   "outputs": [
    {
     "data": {
      "text/plain": [
       "\u001B[1mModel: \"sequential\"\u001B[0m\n"
      ],
      "text/html": [
       "<pre style=\"white-space:pre;overflow-x:auto;line-height:normal;font-family:Menlo,'DejaVu Sans Mono',consolas,'Courier New',monospace\"><span style=\"font-weight: bold\">Model: \"sequential\"</span>\n",
       "</pre>\n"
      ]
     },
     "metadata": {},
     "output_type": "display_data"
    },
    {
     "data": {
      "text/plain": [
       "┏━━━━━━━━━━━━━━━━━━━━━━━━━━━━━━━━━┳━━━━━━━━━━━━━━━━━━━━━━━━┳━━━━━━━━━━━━━━━┓\n",
       "┃\u001B[1m \u001B[0m\u001B[1mLayer (type)                   \u001B[0m\u001B[1m \u001B[0m┃\u001B[1m \u001B[0m\u001B[1mOutput Shape          \u001B[0m\u001B[1m \u001B[0m┃\u001B[1m \u001B[0m\u001B[1m      Param #\u001B[0m\u001B[1m \u001B[0m┃\n",
       "┡━━━━━━━━━━━━━━━━━━━━━━━━━━━━━━━━━╇━━━━━━━━━━━━━━━━━━━━━━━━╇━━━━━━━━━━━━━━━┩\n",
       "│ conv2d (\u001B[38;5;33mConv2D\u001B[0m)                 │ (\u001B[38;5;45mNone\u001B[0m, \u001B[38;5;34m62\u001B[0m, \u001B[38;5;34m62\u001B[0m, \u001B[38;5;34m32\u001B[0m)     │           \u001B[38;5;34m896\u001B[0m │\n",
       "├─────────────────────────────────┼────────────────────────┼───────────────┤\n",
       "│ max_pooling2d (\u001B[38;5;33mMaxPooling2D\u001B[0m)    │ (\u001B[38;5;45mNone\u001B[0m, \u001B[38;5;34m31\u001B[0m, \u001B[38;5;34m31\u001B[0m, \u001B[38;5;34m32\u001B[0m)     │             \u001B[38;5;34m0\u001B[0m │\n",
       "├─────────────────────────────────┼────────────────────────┼───────────────┤\n",
       "│ dropout (\u001B[38;5;33mDropout\u001B[0m)               │ (\u001B[38;5;45mNone\u001B[0m, \u001B[38;5;34m31\u001B[0m, \u001B[38;5;34m31\u001B[0m, \u001B[38;5;34m32\u001B[0m)     │             \u001B[38;5;34m0\u001B[0m │\n",
       "├─────────────────────────────────┼────────────────────────┼───────────────┤\n",
       "│ conv2d_1 (\u001B[38;5;33mConv2D\u001B[0m)               │ (\u001B[38;5;45mNone\u001B[0m, \u001B[38;5;34m29\u001B[0m, \u001B[38;5;34m29\u001B[0m, \u001B[38;5;34m64\u001B[0m)     │        \u001B[38;5;34m18,496\u001B[0m │\n",
       "├─────────────────────────────────┼────────────────────────┼───────────────┤\n",
       "│ max_pooling2d_1 (\u001B[38;5;33mMaxPooling2D\u001B[0m)  │ (\u001B[38;5;45mNone\u001B[0m, \u001B[38;5;34m14\u001B[0m, \u001B[38;5;34m14\u001B[0m, \u001B[38;5;34m64\u001B[0m)     │             \u001B[38;5;34m0\u001B[0m │\n",
       "├─────────────────────────────────┼────────────────────────┼───────────────┤\n",
       "│ dropout_1 (\u001B[38;5;33mDropout\u001B[0m)             │ (\u001B[38;5;45mNone\u001B[0m, \u001B[38;5;34m14\u001B[0m, \u001B[38;5;34m14\u001B[0m, \u001B[38;5;34m64\u001B[0m)     │             \u001B[38;5;34m0\u001B[0m │\n",
       "├─────────────────────────────────┼────────────────────────┼───────────────┤\n",
       "│ conv2d_2 (\u001B[38;5;33mConv2D\u001B[0m)               │ (\u001B[38;5;45mNone\u001B[0m, \u001B[38;5;34m12\u001B[0m, \u001B[38;5;34m12\u001B[0m, \u001B[38;5;34m128\u001B[0m)    │        \u001B[38;5;34m73,856\u001B[0m │\n",
       "├─────────────────────────────────┼────────────────────────┼───────────────┤\n",
       "│ max_pooling2d_2 (\u001B[38;5;33mMaxPooling2D\u001B[0m)  │ (\u001B[38;5;45mNone\u001B[0m, \u001B[38;5;34m6\u001B[0m, \u001B[38;5;34m6\u001B[0m, \u001B[38;5;34m128\u001B[0m)      │             \u001B[38;5;34m0\u001B[0m │\n",
       "├─────────────────────────────────┼────────────────────────┼───────────────┤\n",
       "│ dropout_2 (\u001B[38;5;33mDropout\u001B[0m)             │ (\u001B[38;5;45mNone\u001B[0m, \u001B[38;5;34m6\u001B[0m, \u001B[38;5;34m6\u001B[0m, \u001B[38;5;34m128\u001B[0m)      │             \u001B[38;5;34m0\u001B[0m │\n",
       "├─────────────────────────────────┼────────────────────────┼───────────────┤\n",
       "│ flatten (\u001B[38;5;33mFlatten\u001B[0m)               │ (\u001B[38;5;45mNone\u001B[0m, \u001B[38;5;34m4608\u001B[0m)           │             \u001B[38;5;34m0\u001B[0m │\n",
       "├─────────────────────────────────┼────────────────────────┼───────────────┤\n",
       "│ dense (\u001B[38;5;33mDense\u001B[0m)                   │ (\u001B[38;5;45mNone\u001B[0m, \u001B[38;5;34m512\u001B[0m)            │     \u001B[38;5;34m2,359,808\u001B[0m │\n",
       "├─────────────────────────────────┼────────────────────────┼───────────────┤\n",
       "│ dense_1 (\u001B[38;5;33mDense\u001B[0m)                 │ (\u001B[38;5;45mNone\u001B[0m, \u001B[38;5;34m1\u001B[0m)              │           \u001B[38;5;34m513\u001B[0m │\n",
       "└─────────────────────────────────┴────────────────────────┴───────────────┘\n"
      ],
      "text/html": [
       "<pre style=\"white-space:pre;overflow-x:auto;line-height:normal;font-family:Menlo,'DejaVu Sans Mono',consolas,'Courier New',monospace\">┏━━━━━━━━━━━━━━━━━━━━━━━━━━━━━━━━━┳━━━━━━━━━━━━━━━━━━━━━━━━┳━━━━━━━━━━━━━━━┓\n",
       "┃<span style=\"font-weight: bold\"> Layer (type)                    </span>┃<span style=\"font-weight: bold\"> Output Shape           </span>┃<span style=\"font-weight: bold\">       Param # </span>┃\n",
       "┡━━━━━━━━━━━━━━━━━━━━━━━━━━━━━━━━━╇━━━━━━━━━━━━━━━━━━━━━━━━╇━━━━━━━━━━━━━━━┩\n",
       "│ conv2d (<span style=\"color: #0087ff; text-decoration-color: #0087ff\">Conv2D</span>)                 │ (<span style=\"color: #00d7ff; text-decoration-color: #00d7ff\">None</span>, <span style=\"color: #00af00; text-decoration-color: #00af00\">62</span>, <span style=\"color: #00af00; text-decoration-color: #00af00\">62</span>, <span style=\"color: #00af00; text-decoration-color: #00af00\">32</span>)     │           <span style=\"color: #00af00; text-decoration-color: #00af00\">896</span> │\n",
       "├─────────────────────────────────┼────────────────────────┼───────────────┤\n",
       "│ max_pooling2d (<span style=\"color: #0087ff; text-decoration-color: #0087ff\">MaxPooling2D</span>)    │ (<span style=\"color: #00d7ff; text-decoration-color: #00d7ff\">None</span>, <span style=\"color: #00af00; text-decoration-color: #00af00\">31</span>, <span style=\"color: #00af00; text-decoration-color: #00af00\">31</span>, <span style=\"color: #00af00; text-decoration-color: #00af00\">32</span>)     │             <span style=\"color: #00af00; text-decoration-color: #00af00\">0</span> │\n",
       "├─────────────────────────────────┼────────────────────────┼───────────────┤\n",
       "│ dropout (<span style=\"color: #0087ff; text-decoration-color: #0087ff\">Dropout</span>)               │ (<span style=\"color: #00d7ff; text-decoration-color: #00d7ff\">None</span>, <span style=\"color: #00af00; text-decoration-color: #00af00\">31</span>, <span style=\"color: #00af00; text-decoration-color: #00af00\">31</span>, <span style=\"color: #00af00; text-decoration-color: #00af00\">32</span>)     │             <span style=\"color: #00af00; text-decoration-color: #00af00\">0</span> │\n",
       "├─────────────────────────────────┼────────────────────────┼───────────────┤\n",
       "│ conv2d_1 (<span style=\"color: #0087ff; text-decoration-color: #0087ff\">Conv2D</span>)               │ (<span style=\"color: #00d7ff; text-decoration-color: #00d7ff\">None</span>, <span style=\"color: #00af00; text-decoration-color: #00af00\">29</span>, <span style=\"color: #00af00; text-decoration-color: #00af00\">29</span>, <span style=\"color: #00af00; text-decoration-color: #00af00\">64</span>)     │        <span style=\"color: #00af00; text-decoration-color: #00af00\">18,496</span> │\n",
       "├─────────────────────────────────┼────────────────────────┼───────────────┤\n",
       "│ max_pooling2d_1 (<span style=\"color: #0087ff; text-decoration-color: #0087ff\">MaxPooling2D</span>)  │ (<span style=\"color: #00d7ff; text-decoration-color: #00d7ff\">None</span>, <span style=\"color: #00af00; text-decoration-color: #00af00\">14</span>, <span style=\"color: #00af00; text-decoration-color: #00af00\">14</span>, <span style=\"color: #00af00; text-decoration-color: #00af00\">64</span>)     │             <span style=\"color: #00af00; text-decoration-color: #00af00\">0</span> │\n",
       "├─────────────────────────────────┼────────────────────────┼───────────────┤\n",
       "│ dropout_1 (<span style=\"color: #0087ff; text-decoration-color: #0087ff\">Dropout</span>)             │ (<span style=\"color: #00d7ff; text-decoration-color: #00d7ff\">None</span>, <span style=\"color: #00af00; text-decoration-color: #00af00\">14</span>, <span style=\"color: #00af00; text-decoration-color: #00af00\">14</span>, <span style=\"color: #00af00; text-decoration-color: #00af00\">64</span>)     │             <span style=\"color: #00af00; text-decoration-color: #00af00\">0</span> │\n",
       "├─────────────────────────────────┼────────────────────────┼───────────────┤\n",
       "│ conv2d_2 (<span style=\"color: #0087ff; text-decoration-color: #0087ff\">Conv2D</span>)               │ (<span style=\"color: #00d7ff; text-decoration-color: #00d7ff\">None</span>, <span style=\"color: #00af00; text-decoration-color: #00af00\">12</span>, <span style=\"color: #00af00; text-decoration-color: #00af00\">12</span>, <span style=\"color: #00af00; text-decoration-color: #00af00\">128</span>)    │        <span style=\"color: #00af00; text-decoration-color: #00af00\">73,856</span> │\n",
       "├─────────────────────────────────┼────────────────────────┼───────────────┤\n",
       "│ max_pooling2d_2 (<span style=\"color: #0087ff; text-decoration-color: #0087ff\">MaxPooling2D</span>)  │ (<span style=\"color: #00d7ff; text-decoration-color: #00d7ff\">None</span>, <span style=\"color: #00af00; text-decoration-color: #00af00\">6</span>, <span style=\"color: #00af00; text-decoration-color: #00af00\">6</span>, <span style=\"color: #00af00; text-decoration-color: #00af00\">128</span>)      │             <span style=\"color: #00af00; text-decoration-color: #00af00\">0</span> │\n",
       "├─────────────────────────────────┼────────────────────────┼───────────────┤\n",
       "│ dropout_2 (<span style=\"color: #0087ff; text-decoration-color: #0087ff\">Dropout</span>)             │ (<span style=\"color: #00d7ff; text-decoration-color: #00d7ff\">None</span>, <span style=\"color: #00af00; text-decoration-color: #00af00\">6</span>, <span style=\"color: #00af00; text-decoration-color: #00af00\">6</span>, <span style=\"color: #00af00; text-decoration-color: #00af00\">128</span>)      │             <span style=\"color: #00af00; text-decoration-color: #00af00\">0</span> │\n",
       "├─────────────────────────────────┼────────────────────────┼───────────────┤\n",
       "│ flatten (<span style=\"color: #0087ff; text-decoration-color: #0087ff\">Flatten</span>)               │ (<span style=\"color: #00d7ff; text-decoration-color: #00d7ff\">None</span>, <span style=\"color: #00af00; text-decoration-color: #00af00\">4608</span>)           │             <span style=\"color: #00af00; text-decoration-color: #00af00\">0</span> │\n",
       "├─────────────────────────────────┼────────────────────────┼───────────────┤\n",
       "│ dense (<span style=\"color: #0087ff; text-decoration-color: #0087ff\">Dense</span>)                   │ (<span style=\"color: #00d7ff; text-decoration-color: #00d7ff\">None</span>, <span style=\"color: #00af00; text-decoration-color: #00af00\">512</span>)            │     <span style=\"color: #00af00; text-decoration-color: #00af00\">2,359,808</span> │\n",
       "├─────────────────────────────────┼────────────────────────┼───────────────┤\n",
       "│ dense_1 (<span style=\"color: #0087ff; text-decoration-color: #0087ff\">Dense</span>)                 │ (<span style=\"color: #00d7ff; text-decoration-color: #00d7ff\">None</span>, <span style=\"color: #00af00; text-decoration-color: #00af00\">1</span>)              │           <span style=\"color: #00af00; text-decoration-color: #00af00\">513</span> │\n",
       "└─────────────────────────────────┴────────────────────────┴───────────────┘\n",
       "</pre>\n"
      ]
     },
     "metadata": {},
     "output_type": "display_data"
    },
    {
     "data": {
      "text/plain": [
       "\u001B[1m Total params: \u001B[0m\u001B[38;5;34m2,453,569\u001B[0m (9.36 MB)\n"
      ],
      "text/html": [
       "<pre style=\"white-space:pre;overflow-x:auto;line-height:normal;font-family:Menlo,'DejaVu Sans Mono',consolas,'Courier New',monospace\"><span style=\"font-weight: bold\"> Total params: </span><span style=\"color: #00af00; text-decoration-color: #00af00\">2,453,569</span> (9.36 MB)\n",
       "</pre>\n"
      ]
     },
     "metadata": {},
     "output_type": "display_data"
    },
    {
     "data": {
      "text/plain": [
       "\u001B[1m Trainable params: \u001B[0m\u001B[38;5;34m2,453,569\u001B[0m (9.36 MB)\n"
      ],
      "text/html": [
       "<pre style=\"white-space:pre;overflow-x:auto;line-height:normal;font-family:Menlo,'DejaVu Sans Mono',consolas,'Courier New',monospace\"><span style=\"font-weight: bold\"> Trainable params: </span><span style=\"color: #00af00; text-decoration-color: #00af00\">2,453,569</span> (9.36 MB)\n",
       "</pre>\n"
      ]
     },
     "metadata": {},
     "output_type": "display_data"
    },
    {
     "data": {
      "text/plain": [
       "\u001B[1m Non-trainable params: \u001B[0m\u001B[38;5;34m0\u001B[0m (0.00 B)\n"
      ],
      "text/html": [
       "<pre style=\"white-space:pre;overflow-x:auto;line-height:normal;font-family:Menlo,'DejaVu Sans Mono',consolas,'Courier New',monospace\"><span style=\"font-weight: bold\"> Non-trainable params: </span><span style=\"color: #00af00; text-decoration-color: #00af00\">0</span> (0.00 B)\n",
       "</pre>\n"
      ]
     },
     "metadata": {},
     "output_type": "display_data"
    },
    {
     "name": "stdout",
     "output_type": "stream",
     "text": [
      "Found 19840 images belonging to 2 classes.\n",
      "Found 9600 images belonging to 2 classes.\n",
      "Epoch 1/20\n",
      "992/992 - 34s - 34ms/step - acc: 0.5795 - loss: 0.6645 - val_acc: 0.6469 - val_loss: 0.6358\n",
      "Epoch 2/20\n",
      "992/992 - 35s - 35ms/step - acc: 0.6861 - loss: 0.5888 - val_acc: 0.6759 - val_loss: 0.5990\n",
      "Epoch 3/20\n",
      "992/992 - 34s - 34ms/step - acc: 0.7144 - loss: 0.5524 - val_acc: 0.6824 - val_loss: 0.5873\n",
      "Epoch 4/20\n",
      "992/992 - 33s - 34ms/step - acc: 0.7371 - loss: 0.5238 - val_acc: 0.6976 - val_loss: 0.5699\n",
      "Epoch 5/20\n",
      "992/992 - 35s - 35ms/step - acc: 0.7536 - loss: 0.5010 - val_acc: 0.6910 - val_loss: 0.5856\n",
      "Epoch 6/20\n",
      "992/992 - 35s - 35ms/step - acc: 0.7704 - loss: 0.4755 - val_acc: 0.6951 - val_loss: 0.5806\n",
      "Epoch 7/20\n",
      "992/992 - 35s - 35ms/step - acc: 0.7872 - loss: 0.4523 - val_acc: 0.7090 - val_loss: 0.5598\n",
      "Epoch 8/20\n",
      "992/992 - 36s - 36ms/step - acc: 0.7983 - loss: 0.4298 - val_acc: 0.7333 - val_loss: 0.5265\n",
      "Epoch 9/20\n",
      "992/992 - 35s - 36ms/step - acc: 0.8114 - loss: 0.4131 - val_acc: 0.7306 - val_loss: 0.5273\n",
      "Epoch 10/20\n",
      "992/992 - 36s - 36ms/step - acc: 0.8284 - loss: 0.3903 - val_acc: 0.7115 - val_loss: 0.5795\n",
      "Epoch 11/20\n",
      "992/992 - 35s - 36ms/step - acc: 0.8306 - loss: 0.3781 - val_acc: 0.7421 - val_loss: 0.5231\n",
      "Epoch 12/20\n",
      "992/992 - 36s - 36ms/step - acc: 0.8423 - loss: 0.3584 - val_acc: 0.7215 - val_loss: 0.5786\n",
      "Epoch 13/20\n",
      "992/992 - 36s - 36ms/step - acc: 0.8501 - loss: 0.3443 - val_acc: 0.7456 - val_loss: 0.5252\n",
      "Epoch 14/20\n",
      "992/992 - 36s - 36ms/step - acc: 0.8580 - loss: 0.3284 - val_acc: 0.7517 - val_loss: 0.5280\n",
      "Epoch 15/20\n",
      "992/992 - 36s - 36ms/step - acc: 0.8652 - loss: 0.3139 - val_acc: 0.7489 - val_loss: 0.5433\n",
      "Epoch 16/20\n",
      "992/992 - 34s - 35ms/step - acc: 0.8740 - loss: 0.2967 - val_acc: 0.7618 - val_loss: 0.5256\n",
      "Epoch 17/20\n",
      "992/992 - 35s - 35ms/step - acc: 0.8787 - loss: 0.2838 - val_acc: 0.7283 - val_loss: 0.6229\n",
      "Epoch 18/20\n",
      "992/992 - 35s - 35ms/step - acc: 0.8881 - loss: 0.2671 - val_acc: 0.7454 - val_loss: 0.5761\n",
      "Epoch 19/20\n",
      "992/992 - 34s - 35ms/step - acc: 0.8959 - loss: 0.2543 - val_acc: 0.7309 - val_loss: 0.6380\n",
      "Epoch 20/20\n",
      "992/992 - 35s - 35ms/step - acc: 0.9004 - loss: 0.2424 - val_acc: 0.7528 - val_loss: 0.5655\n"
     ]
    }
   ],
   "execution_count": 1
  },
  {
   "metadata": {
    "ExecuteTime": {
     "end_time": "2024-07-21T13:19:13.087621Z",
     "start_time": "2024-07-21T13:19:12.947912Z"
    }
   },
   "cell_type": "code",
   "source": [
    "import matplotlib.pyplot as plt\n",
    "\n",
    "acc = history.history['acc']\n",
    "val_acc = history.history['val_acc']\n",
    "loss = history.history['loss']\n",
    "val_loss = history.history['val_loss']\n",
    "\n",
    "epochs = range(len(acc))\n",
    "\n",
    "plt.plot(epochs, acc, 'bo', label='Training acc')\n",
    "plt.plot(epochs, val_acc, 'b', label='Validation acc')\n",
    "plt.title('Training and validation accuracy')\n",
    "plt.legend()\n",
    "\n",
    "plt.figure()\n",
    "\n",
    "plt.plot(epochs, loss, 'bo', label='Training loss')\n",
    "plt.plot(epochs, val_loss, 'b', label='Validation loss')\n",
    "plt.title('Training and validation loss')\n",
    "plt.legend()\n",
    "\n",
    "plt.show()"
   ],
   "outputs": [
    {
     "data": {
      "text/plain": [
       "<Figure size 640x480 with 1 Axes>"
      ],
      "image/png": "[encoded data removed]"
     },
     "metadata": {},
     "output_type": "display_data"
    },
    {
     "data": {
      "text/plain": [
       "<Figure size 640x480 with 1 Axes>"
      ],
      "image/png": "[encoded data removed]"
     },
     "metadata": {},
     "output_type": "display_data"
    }
   ],
   "execution_count": 5
  },
  {
   "metadata": {},
   "cell_type": "code",
   "source": "",
   "outputs": [],
   "execution_count": null
  }
 ],
 "metadata": {
  "kernelspec": {
   "display_name": "tf-env",
   "language": "python",
   "name": "python3"
  },
  "language_info": {
   "codemirror_mode": {
    "name": "ipython",
    "version": 3
   },
   "file_extension": ".py",
   "mimetype": "text/x-python",
   "name": "python",
   "nbconvert_exporter": "python",
   "pygments_lexer": "ipython3",
   "version": "undefined.undefined.undefined"
  }
 },
 "nbformat": 4,
 "nbformat_minor": 2
}
