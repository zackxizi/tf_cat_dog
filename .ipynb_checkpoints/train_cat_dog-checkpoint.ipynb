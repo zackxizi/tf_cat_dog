{
 "cells": [
  {
   "metadata": {
    "jupyter": {
     "is_executing": true
    }
   },
   "cell_type": "code",
   "source": [
    "from tensorflow.keras.preprocessing import image\n",
    "\n",
    "print(image)"
   ],
   "outputs": [],
   "execution_count": null
  },
  {
   "cell_type": "code",
   "metadata": {},
   "source": [
    "# 将所有的图片转成64x64的图片\n",
    "from os import path, makedirs, listdir\n",
    "from tensorflow.keras.preprocessing import image\n",
    "\n",
    "\n",
    "def genDir(c, type):\n",
    "    base_path = \"./data\"\n",
    "    cf = path.join(base_path, f\"cats_and_dogs/{type}\")\n",
    "    inner_path = path.join(cf, c)\n",
    "    out_path = path.join(base_path, \"cats_and_dogs_1\", type, c)\n",
    "    makedirs(out_path, exist_ok=True)\n",
    "    return [cf, inner_path, out_path]\n",
    "\n",
    "\n",
    "dataGen = image.ImageDataGenerator(\n",
    "    rescale=1.0 / 255,  # 归一化\n",
    "    # rotation_range=0,\n",
    "    width_shift_range=0.2,  # 水平随机平移0.2\n",
    "    height_shift_range=0.2,  # 垂直随机平移0.2\n",
    "    shear_range=0.2,  # 随机剪切变换0.2\n",
    "    zoom_range=0.2,  # 随机缩放0.2\n",
    "    horizontal_flip=True,  # 水平翻转\n",
    "    fill_mode=\"nearest\",  # 填充新创建像素的方法\n",
    ")\n",
    "\n",
    "\n",
    "classes = [\"dogs\", \"cats\"]\n",
    "cfs = [\"train\", \"validation\"]\n",
    "\n",
    "\n",
    "def gen():\n",
    "    for j in cfs:\n",
    "        for c in classes:\n",
    "            cf, inner_path, out_path = genDir(c, j)\n",
    "            batch_size = 32\n",
    "            gen_data = dataGen.flow_from_directory(\n",
    "                directory=cf,\n",
    "                classes=[c],\n",
    "                batch_size=batch_size,\n",
    "                shuffle=True,\n",
    "                save_to_dir=out_path,\n",
    "                save_prefix=\"gen\",\n",
    "                target_size=[64, 64],\n",
    "                class_mode=\"binary\",\n",
    "            )\n",
    "\n",
    "            num_images = len(listdir(inner_path))\n",
    "            steps = num_images // batch_size\n",
    "\n",
    "            for i in range(steps):\n",
    "                next(gen_data)\n",
    "\n",
    "\n",
    "for i in range(2):\n",
    "    gen()"
   ],
   "outputs": [],
   "execution_count": null
  },
  {
   "cell_type": "code",
   "metadata": {},
   "source": [
    "import tensorflow as tf;\n",
    "\n",
    "print(tf.keras.utils.image_dataset_from_directory)"
   ],
   "outputs": [],
   "execution_count": null
  }
 ],
 "metadata": {
  "kernelspec": {
   "display_name": "tf-env",
   "language": "python",
   "name": "python3"
  },
  "language_info": {
   "codemirror_mode": {
    "name": "ipython",
    "version": 3
   },
   "file_extension": ".py",
   "mimetype": "text/x-python",
   "name": "python",
   "nbconvert_exporter": "python",
   "pygments_lexer": "ipython3",
   "version": "3.12.4"
  }
 },
 "nbformat": 4,
 "nbformat_minor": 2
}
